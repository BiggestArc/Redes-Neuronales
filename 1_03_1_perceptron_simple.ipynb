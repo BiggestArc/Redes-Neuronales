{
  "cells": [
    {
      "cell_type": "markdown",
      "metadata": {
        "id": "LdVZNbmNaB4C"
      },
      "source": [
        "# Perceptrón simple\n",
        "(Ejercicio, 3 puntos posibles)\n",
        "\n",
        "En este notebook programaremos un perceptron simple utilizando numpy. El objetivo es que comprendamos el funcionamiento del perceptrón y que practiquemos la programación en Python. En la siguiente figura se encuentra una representación del perceptrón.\n",
        "\n",
        "<img src=\"files/simple_nn_notebook.png\">\n",
        "\n",
        "[![Open In Colab](https://colab.research.google.com/assets/colab-badge.svg)](https://colab.research.google.com/github/irvingvasquez/cv2course_intro_nn/blob/master/02_red_neuronal_simple.ipynb)\n",
        "\n",
        "@juan1rving\n"
      ]
    },
    {
      "cell_type": "code",
      "execution_count": null,
      "metadata": {
        "id": "e9JqEVYqaB4E"
      },
      "outputs": [],
      "source": [
        "# Cargamos paquetes\n",
        "import numpy as np"
      ]
    },
    {
      "cell_type": "markdown",
      "metadata": {
        "id": "JoYkp4gaaB4E"
      },
      "source": [
        "### Calcular producto punto\n",
        "\n",
        "El primer paso es calcular el valor intermedio, *h*, a partir del producto punto. La fórmula explícita es la siguiente:\n",
        "\n",
        "$$ h = W X +b $$"
      ]
    },
    {
      "cell_type": "code",
      "execution_count": null,
      "metadata": {
        "id": "gPQ9-th4aB4E"
      },
      "outputs": [],
      "source": [
        "# TODO: (1 punto) Implementar la función h sin utilizar funciones predefinidas de numpy como numpy.dot()\n",
        "\n",
        "def combinacion_lineal(W, X, b):\n",
        "    tam=len(W)\n",
        "    suma=0\n",
        "    for i in range(0,tam):\n",
        "        suma+=W[i]*X[i]\n",
        "    suma+=b\n",
        "    return suma"
      ]
    },
    {
      "cell_type": "markdown",
      "metadata": {
        "id": "KMRWLR9EaB4F"
      },
      "source": [
        "### Función de activación\n",
        "\n",
        "Para este ejemplo utilizaremos la función escalón como función de activación.\n",
        "\n",
        "$$ \tf(h) = \\begin{cases}\n",
        "\t\t0 & \\text{if } h < a \\\\\n",
        "\t\t1 & \\text{if } h \\geq a\n",
        "\\end{cases}  $$"
      ]
    },
    {
      "cell_type": "code",
      "execution_count": null,
      "metadata": {
        "id": "4p0pfa4naB4F"
      },
      "outputs": [],
      "source": [
        "# TODO: (1 punto) Completar el código\n",
        "def escalon(h):\n",
        "  if h>=0:\n",
        "    return 1\n",
        "  else:\n",
        "    return 0\n",
        "    pass"
      ]
    },
    {
      "cell_type": "markdown",
      "metadata": {
        "id": "hZMI1biFaB4F"
      },
      "source": [
        "## Definir perceptrón\n",
        "\n",
        "Perceptrón como una función"
      ]
    },
    {
      "cell_type": "code",
      "execution_count": null,
      "metadata": {
        "id": "-m1jjGSxaB4F"
      },
      "outputs": [],
      "source": [
        "# Perceptrón simple\n",
        "def perceptron(W, X, b, activacion):\n",
        "    h = combinacion_lineal(W, X, b)\n",
        "    return activacion(h)"
      ]
    },
    {
      "cell_type": "markdown",
      "metadata": {
        "id": "KQ0x3wECaB4F"
      },
      "source": [
        "## Probar inferencia\n",
        "\n",
        "Ahora definamos unos pesos y veamos el resultado de una pasada frontal (fordward pass)."
      ]
    },
    {
      "cell_type": "code",
      "execution_count": null,
      "metadata": {
        "id": "zoLxOXxnaB4G",
        "outputId": "0eb94fc1-df7b-4a28-b8a2-15ae1d92e32c",
        "colab": {
          "base_uri": "https://localhost:8080/"
        }
      },
      "outputs": [
        {
          "output_type": "stream",
          "name": "stdout",
          "text": [
            "Output:\n",
            "0\n"
          ]
        }
      ],
      "source": [
        "# Definamos unos pesos y sesgo\n",
        "inputs = np.array([0.7, -0.3])\n",
        "weights = np.array([0.1, 0.8])\n",
        "bias = -0.1\n",
        "\n",
        "# Pasada frontal\n",
        "activacion = escalon #definir la función a usar\n",
        "output = perceptron(weights, inputs, bias, activacion)\n",
        "\n",
        "print('Output:')\n",
        "print(output)\n"
      ]
    },
    {
      "cell_type": "code",
      "execution_count": null,
      "metadata": {
        "id": "nYvzPzLoaB4G",
        "colab": {
          "base_uri": "https://localhost:8080/"
        },
        "outputId": "ac2a69e0-132d-48f8-d3dc-b8aa02746006"
      },
      "outputs": [
        {
          "output_type": "stream",
          "name": "stdout",
          "text": [
            "Output1:\n",
            "0\n",
            "Output2:\n",
            "1\n",
            "Output3:\n",
            "1\n",
            "Output4:\n",
            "1\n"
          ]
        }
      ],
      "source": [
        "# TODO (1 punto): Realizar el pase frontal y encuentra por prueba y error los pesos que concuerdan con la función OR\n",
        "\n",
        "weightsOR = np.array([1, 1])\n",
        "inputs1 = np.array([0, 0])\n",
        "inputs2 = np.array([0, 1])\n",
        "inputs3 = np.array([1, 0])\n",
        "inputs4 = np.array([1, 1])\n",
        "\n",
        "output1 = perceptron(weightsOR, inputs1, bias, activacion)\n",
        "output2 = perceptron(weightsOR, inputs2, bias, activacion)\n",
        "output3 = perceptron(weightsOR, inputs3, bias, activacion)\n",
        "output4 = perceptron(weightsOR, inputs4, bias, activacion)\n",
        "\n",
        "print('Output1:')\n",
        "print(output1)\n",
        "\n",
        "print('Output2:')\n",
        "print(output2)\n",
        "\n",
        "print('Output3:')\n",
        "print(output3)\n",
        "\n",
        "print('Output4:')\n",
        "print(output4)\n",
        "\n"
      ]
    },
    {
      "cell_type": "code",
      "execution_count": null,
      "metadata": {
        "id": "I-AfDBxcaB4G"
      },
      "outputs": [],
      "source": []
    }
  ],
  "metadata": {
    "kernelspec": {
      "display_name": "nni",
      "language": "python",
      "name": "python3"
    },
    "language_info": {
      "codemirror_mode": {
        "name": "ipython",
        "version": 3
      },
      "file_extension": ".py",
      "mimetype": "text/x-python",
      "name": "python",
      "nbconvert_exporter": "python",
      "pygments_lexer": "ipython3",
      "version": "3.12.1"
    },
    "vscode": {
      "interpreter": {
        "hash": "cbad788490f55b163920bee5e9d5e0cba00db5905dc94f4bdbe0011e55bf465f"
      }
    },
    "colab": {
      "provenance": []
    }
  },
  "nbformat": 4,
  "nbformat_minor": 0
}