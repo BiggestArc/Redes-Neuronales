{
  "cells": [
    {
      "cell_type": "markdown",
      "metadata": {
        "id": "QO99pXPFuBA9"
      },
      "source": [
        "# Neurona McCulloch y Pitts\n",
        "\n",
        "(Ejercicio, 3 puntos posibles)\n",
        "\n",
        "El modelo de McCulloch y Pitts, concebido por Warren McCulloch, neurocientífico, y Walter Pitts, lógico matemático, en 1943 [1], representa uno de los fundamentos teóricos de las redes neuronales y la inteligencia artificial. Este modelo es una simplificación abstracta de las neuronas biológicas, propuesta para entender cómo podrían las neuronas del cerebro generar patrones complejos de pensamiento a partir de operaciones simples.\n",
        "\n",
        "[![Open In Colab](https://colab.research.google.com/assets/colab-badge.svg)](https://colab.research.google.com/github/irvingvasquez/cv2course_intro_nn/blob/master/01_mcculloch_pitts.ipynb)\n",
        "\n",
        "[1] McCulloch, W. S., & Pitts, W. (1990). A logical calculus of the ideas immanent in nervous activity. Bulletin of mathematical biology, 52, 99-115."
      ]
    },
    {
      "cell_type": "markdown",
      "metadata": {
        "id": "3ecPWWVYuBA_"
      },
      "source": [
        "Para formalizar el modelo de McCulloch y Pitts, representaremos una neurona con la letra $C$ y definiremos que la entrada de dicha neurona, denominada $input$, está determinada por una tupla $(E,I)$, donde $E$ es el conjunto de señales excitatorias e $I$ es el conjunto de señales inhibitorias. Asimismo, estableceremos como restricciones que tanto la entrada como la salida sean variables binarias, es decir, $input, output \\in {0,1}$. Adicionalmente, definiremos un umbral $u$ que la neurona utiliza para determinar los casos de excitación..\n",
        "\n",
        "Dado lo anterior la salida de $C$ se calcula usando las siguientes reglas:\n",
        "\n",
        "1. En caso de que alguna de las entradas inhibitorias esté activa la neurona no se exita, es decir,\n",
        "    \n",
        "    $C(E,I) = 0$  if  $\\exists \\iota_i=1; \\iota_i \\in I$\\\\\n",
        "\n",
        "2. La neurona se exita si la integral de sus entradas exitatorias es igual o superior al umbral, es decir,\n",
        "    \n",
        "    $C(E,I) = 1$ if $\\sum e_i \\geq u; e \\in I$\\\\\n",
        "    \n",
        "\n",
        "3. En cualquier otro caso la neurona permanece sin exitación."
      ]
    },
    {
      "cell_type": "code",
      "execution_count": null,
      "metadata": {
        "id": "IkjFJk2huBA_"
      },
      "outputs": [],
      "source": [
        "#importamos paquetes necesarios\n",
        "import numpy as np"
      ]
    },
    {
      "cell_type": "code",
      "execution_count": null,
      "metadata": {
        "id": "eyrno29wuBBA"
      },
      "outputs": [],
      "source": [
        "# TODO: (2 puntos) Implemente la función del modelo M&P, no use funciones predefinidas de numpy\n",
        "def neuronaMyP(E,I,u):\n",
        "  hay_uno=0\n",
        "  for num in I:\n",
        "    if num==1:\n",
        "      hay_uno=1\n",
        "  if(sum(E)>=u and hay_uno==0):\n",
        "    return 1\n",
        "  else:\n",
        "    return 0\n",
        "    pass"
      ]
    },
    {
      "cell_type": "code",
      "execution_count": null,
      "metadata": {
        "colab": {
          "base_uri": "https://localhost:8080/"
        },
        "id": "RslqPYxruBBA",
        "outputId": "62d17964-ced4-4fd0-f360-62f753a8820d"
      },
      "outputs": [
        {
          "output_type": "stream",
          "name": "stdout",
          "text": [
            "1\n"
          ]
        }
      ],
      "source": [
        "# suponga\n",
        "E = [1]\n",
        "I = [0]\n",
        "u = 1\n",
        "\n",
        "print(neuronaMyP(E,I,u))\n",
        "\n",
        "# Calcule la salida de la neurona y verfique si es correcto"
      ]
    },
    {
      "cell_type": "code",
      "execution_count": null,
      "metadata": {
        "colab": {
          "base_uri": "https://localhost:8080/"
        },
        "id": "gR3fFNUTuBBA",
        "outputId": "cf77bc14-80f8-442b-8e93-3fdd71d733d6"
      },
      "outputs": [
        {
          "output_type": "stream",
          "name": "stdout",
          "text": [
            "Digite los valores de E separados por espacios: 1 1\n",
            "Digite los valores de I separados por espacios: 0\n",
            "Digite el valor de u: 2\n",
            "Salida de la neurona: 1\n"
          ]
        }
      ],
      "source": [
        "# TODO: (1 punto) Implemente un programa que reciba vectores arbitrarios de E, I y u y devuelva la salida de la neurona.\n",
        "\n",
        "E = input(\"Digite los valores de E separados por espacios: \")\n",
        "I = input(\"Digite los valores de I separados por espacios: \")\n",
        "u = input(\"Digite el valor de u: \")\n",
        "\n",
        "\n",
        "E = [int(x) for x in E.split()]\n",
        "I = [int(x) for x in I.split()]\n",
        "u = int(u)\n",
        "\n",
        "\n",
        "y = neuronaMyP(E, I, u)\n",
        "print(\"Salida de la neurona:\", y)"
      ]
    }
  ],
  "metadata": {
    "kernelspec": {
      "display_name": "nni",
      "language": "python",
      "name": "python3"
    },
    "language_info": {
      "codemirror_mode": {
        "name": "ipython",
        "version": 3
      },
      "file_extension": ".py",
      "mimetype": "text/x-python",
      "name": "python",
      "nbconvert_exporter": "python",
      "pygments_lexer": "ipython3",
      "version": "3.12.1"
    },
    "colab": {
      "provenance": []
    }
  },
  "nbformat": 4,
  "nbformat_minor": 0
}